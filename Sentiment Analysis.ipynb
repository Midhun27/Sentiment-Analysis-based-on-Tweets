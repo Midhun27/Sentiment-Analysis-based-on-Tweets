{
 "cells": [
  {
   "cell_type": "code",
   "execution_count": 1,
   "id": "8b323c5e",
   "metadata": {},
   "outputs": [],
   "source": [
    "import pandas as pd\n",
    "import numpy as np\n",
    "import matplotlib.pyplot as plt"
   ]
  },
  {
   "cell_type": "code",
   "execution_count": 2,
   "id": "39f340d7",
   "metadata": {},
   "outputs": [
    {
     "data": {
      "text/html": [
       "<div>\n",
       "<style scoped>\n",
       "    .dataframe tbody tr th:only-of-type {\n",
       "        vertical-align: middle;\n",
       "    }\n",
       "\n",
       "    .dataframe tbody tr th {\n",
       "        vertical-align: top;\n",
       "    }\n",
       "\n",
       "    .dataframe thead th {\n",
       "        text-align: right;\n",
       "    }\n",
       "</style>\n",
       "<table border=\"1\" class=\"dataframe\">\n",
       "  <thead>\n",
       "    <tr style=\"text-align: right;\">\n",
       "      <th></th>\n",
       "      <th>UserName</th>\n",
       "      <th>ScreenName</th>\n",
       "      <th>Location</th>\n",
       "      <th>TweetAt</th>\n",
       "      <th>OriginalTweet</th>\n",
       "      <th>Sentiment</th>\n",
       "    </tr>\n",
       "  </thead>\n",
       "  <tbody>\n",
       "    <tr>\n",
       "      <th>0</th>\n",
       "      <td>3799</td>\n",
       "      <td>48751</td>\n",
       "      <td>London</td>\n",
       "      <td>16-03-2020</td>\n",
       "      <td>@MeNyrbie @Phil_Gahan @Chrisitv https://t.co/i...</td>\n",
       "      <td>Neutral</td>\n",
       "    </tr>\n",
       "    <tr>\n",
       "      <th>1</th>\n",
       "      <td>3800</td>\n",
       "      <td>48752</td>\n",
       "      <td>UK</td>\n",
       "      <td>16-03-2020</td>\n",
       "      <td>advice Talk to your neighbours family to excha...</td>\n",
       "      <td>Positive</td>\n",
       "    </tr>\n",
       "    <tr>\n",
       "      <th>2</th>\n",
       "      <td>3801</td>\n",
       "      <td>48753</td>\n",
       "      <td>Vagabonds</td>\n",
       "      <td>16-03-2020</td>\n",
       "      <td>Coronavirus Australia: Woolworths to give elde...</td>\n",
       "      <td>Positive</td>\n",
       "    </tr>\n",
       "    <tr>\n",
       "      <th>3</th>\n",
       "      <td>3802</td>\n",
       "      <td>48754</td>\n",
       "      <td>NaN</td>\n",
       "      <td>16-03-2020</td>\n",
       "      <td>My food stock is not the only one which is emp...</td>\n",
       "      <td>Positive</td>\n",
       "    </tr>\n",
       "    <tr>\n",
       "      <th>4</th>\n",
       "      <td>3803</td>\n",
       "      <td>48755</td>\n",
       "      <td>NaN</td>\n",
       "      <td>16-03-2020</td>\n",
       "      <td>Me, ready to go at supermarket during the #COV...</td>\n",
       "      <td>Extremely Negative</td>\n",
       "    </tr>\n",
       "  </tbody>\n",
       "</table>\n",
       "</div>"
      ],
      "text/plain": [
       "   UserName  ScreenName   Location     TweetAt  \\\n",
       "0      3799       48751     London  16-03-2020   \n",
       "1      3800       48752         UK  16-03-2020   \n",
       "2      3801       48753  Vagabonds  16-03-2020   \n",
       "3      3802       48754        NaN  16-03-2020   \n",
       "4      3803       48755        NaN  16-03-2020   \n",
       "\n",
       "                                       OriginalTweet           Sentiment  \n",
       "0  @MeNyrbie @Phil_Gahan @Chrisitv https://t.co/i...             Neutral  \n",
       "1  advice Talk to your neighbours family to excha...            Positive  \n",
       "2  Coronavirus Australia: Woolworths to give elde...            Positive  \n",
       "3  My food stock is not the only one which is emp...            Positive  \n",
       "4  Me, ready to go at supermarket during the #COV...  Extremely Negative  "
      ]
     },
     "execution_count": 2,
     "metadata": {},
     "output_type": "execute_result"
    }
   ],
   "source": [
    "df = pd.read_csv('Corona_NLP (2).csv',encoding='latin1')\n",
    "df.head()"
   ]
  },
  {
   "cell_type": "code",
   "execution_count": 3,
   "id": "b688e7f3",
   "metadata": {},
   "outputs": [
    {
     "data": {
      "text/plain": [
       "(41157, 6)"
      ]
     },
     "execution_count": 3,
     "metadata": {},
     "output_type": "execute_result"
    }
   ],
   "source": [
    "df.shape"
   ]
  },
  {
   "cell_type": "code",
   "execution_count": 4,
   "id": "34c45619",
   "metadata": {},
   "outputs": [
    {
     "data": {
      "text/plain": [
       "UserName            0\n",
       "ScreenName          0\n",
       "Location         8590\n",
       "TweetAt             0\n",
       "OriginalTweet       0\n",
       "Sentiment           0\n",
       "dtype: int64"
      ]
     },
     "execution_count": 4,
     "metadata": {},
     "output_type": "execute_result"
    }
   ],
   "source": [
    "df.isnull().sum()"
   ]
  },
  {
   "cell_type": "code",
   "execution_count": 5,
   "id": "f80bc23d",
   "metadata": {},
   "outputs": [
    {
     "data": {
      "text/plain": [
       "Positive              11422\n",
       "Negative               9917\n",
       "Neutral                7713\n",
       "Extremely Positive     6624\n",
       "Extremely Negative     5481\n",
       "Name: Sentiment, dtype: int64"
      ]
     },
     "execution_count": 5,
     "metadata": {},
     "output_type": "execute_result"
    }
   ],
   "source": [
    "df['Sentiment'].value_counts()"
   ]
  },
  {
   "cell_type": "code",
   "execution_count": 6,
   "id": "4703718e",
   "metadata": {},
   "outputs": [],
   "source": [
    "df[\"Sentiment\"]=df[\"Sentiment\"].replace({\"Extremely Positive\":\"Positive\",\"Extremely Negative\":\"Negative\"})"
   ]
  },
  {
   "cell_type": "code",
   "execution_count": 7,
   "id": "f9e5a81a",
   "metadata": {},
   "outputs": [
    {
     "data": {
      "text/plain": [
       "Positive    18046\n",
       "Negative    15398\n",
       "Neutral      7713\n",
       "Name: Sentiment, dtype: int64"
      ]
     },
     "execution_count": 7,
     "metadata": {},
     "output_type": "execute_result"
    }
   ],
   "source": [
    "df['Sentiment'].value_counts()"
   ]
  },
  {
   "cell_type": "code",
   "execution_count": 8,
   "id": "235ccdd6",
   "metadata": {},
   "outputs": [
    {
     "data": {
      "text/plain": [
       "24659    My question about the #CERB is: why would anyo...\n",
       "31952    @ToonBoom it's funny that your site says that ...\n",
       "2258     Shopping online in Switzerland :\\r\\r\\nqueue to...\n",
       "22085    Kroger swaps Cincy-area store to pickup only. ...\n",
       "16354    @RealSammyMarkle @superscuba83 @BorisJohnson @...\n",
       "Name: OriginalTweet, dtype: object"
      ]
     },
     "execution_count": 8,
     "metadata": {},
     "output_type": "execute_result"
    }
   ],
   "source": [
    "df['OriginalTweet'].sample(5)"
   ]
  },
  {
   "cell_type": "code",
   "execution_count": 9,
   "id": "538eeba7",
   "metadata": {},
   "outputs": [
    {
     "data": {
      "text/plain": [
       "\"My food stock is not the only one which is empty...\\r\\r\\n\\r\\r\\nPLEASE, don't panic, THERE WILL BE ENOUGH FOOD FOR EVERYONE if you do not take more than you need. \\r\\r\\nStay calm, stay safe.\\r\\r\\n\\r\\r\\n#COVID19france #COVID_19 #COVID19 #coronavirus #confinement #Confinementotal #ConfinementGeneral https://t.co/zrlG0Z520j\""
      ]
     },
     "execution_count": 9,
     "metadata": {},
     "output_type": "execute_result"
    }
   ],
   "source": [
    "df['OriginalTweet'][3]"
   ]
  },
  {
   "cell_type": "code",
   "execution_count": 10,
   "id": "e87b0c90",
   "metadata": {},
   "outputs": [],
   "source": [
    "import re\n",
    "import nltk\n",
    "from nltk import word_tokenize\n",
    "from nltk.stem import WordNetLemmatizer\n",
    "from nltk.corpus import stopwords\n",
    "from sklearn.feature_extraction.text import CountVectorizer,TfidfVectorizer"
   ]
  },
  {
   "cell_type": "code",
   "execution_count": 11,
   "id": "86db4a8f",
   "metadata": {},
   "outputs": [],
   "source": [
    "from sklearn.model_selection import train_test_split\n",
    "from sklearn.metrics import confusion_matrix, classification_report"
   ]
  },
  {
   "cell_type": "code",
   "execution_count": 12,
   "id": "eed33e73",
   "metadata": {},
   "outputs": [
    {
     "name": "stdout",
     "output_type": "stream",
     "text": [
      "['i', 'me', 'my', 'myself', 'we', 'our', 'ours', 'ourselves', 'you', \"you're\", \"you've\", \"you'll\", \"you'd\", 'your', 'yours', 'yourself', 'yourselves', 'he', 'him', 'his', 'himself', 'she', \"she's\", 'her', 'hers', 'herself', 'it', \"it's\", 'its', 'itself', 'they', 'them', 'their', 'theirs', 'themselves', 'what', 'which', 'who', 'whom', 'this', 'that', \"that'll\", 'these', 'those', 'am', 'is', 'are', 'was', 'were', 'be', 'been', 'being', 'have', 'has', 'had', 'having', 'do', 'does', 'did', 'doing', 'a', 'an', 'the', 'and', 'but', 'if', 'or', 'because', 'as', 'until', 'while', 'of', 'at', 'by', 'for', 'with', 'about', 'against', 'between', 'into', 'through', 'during', 'before', 'after', 'above', 'below', 'to', 'from', 'up', 'down', 'in', 'out', 'on', 'off', 'over', 'under', 'again', 'further', 'then', 'once', 'here', 'there', 'when', 'where', 'why', 'how', 'all', 'any', 'both', 'each', 'few', 'more', 'most', 'other', 'some', 'such', 'no', 'nor', 'not', 'only', 'own', 'same', 'so', 'than', 'too', 'very', 's', 't', 'can', 'will', 'just', 'don', \"don't\", 'should', \"should've\", 'now', 'd', 'll', 'm', 'o', 're', 've', 'y', 'ain', 'aren', \"aren't\", 'couldn', \"couldn't\", 'didn', \"didn't\", 'doesn', \"doesn't\", 'hadn', \"hadn't\", 'hasn', \"hasn't\", 'haven', \"haven't\", 'isn', \"isn't\", 'ma', 'mightn', \"mightn't\", 'mustn', \"mustn't\", 'needn', \"needn't\", 'shan', \"shan't\", 'shouldn', \"shouldn't\", 'wasn', \"wasn't\", 'weren', \"weren't\", 'won', \"won't\", 'wouldn', \"wouldn't\"]\n"
     ]
    }
   ],
   "source": [
    "lm=WordNetLemmatizer()\n",
    "sw=stopwords.words('English')\n",
    "print(sw)"
   ]
  },
  {
   "cell_type": "code",
   "execution_count": 13,
   "id": "150757c4",
   "metadata": {},
   "outputs": [],
   "source": [
    "corpus=[]\n",
    "for i in df['OriginalTweet']:\n",
    "    t=i\n",
    "    t=re.sub('[^A-Za-z0-9]',' ',t)   #Removing Punctuations\n",
    "    t=t.lower()                      #Converting to Lower Case\n",
    "    t=word_tokenize(t)               #Tokenizing the words\n",
    "    t=[x for x in t if x not in sw]  #Removing Stop Words\n",
    "    t=[lm.lemmatize(x) for x in t]   #lemmitization\n",
    "    t=\" \".join(t)\n",
    "    corpus.append(t)"
   ]
  },
  {
   "cell_type": "code",
   "execution_count": 14,
   "id": "7311fef4",
   "metadata": {},
   "outputs": [
    {
     "name": "stdout",
     "output_type": "stream",
     "text": [
      "['menyrbie phil gahan chrisitv http co ifz9fan2pa http co xx6ghgfzcc http co i2nlzdxno8', 'advice talk neighbour family exchange phone number create contact list phone number neighbour school employer chemist gp set online shopping account po adequate supply regular med order', 'coronavirus australia woolworth give elderly disabled dedicated shopping hour amid covid 19 outbreak http co binca9vp8p', 'food stock one empty please panic enough food everyone take need stay calm stay safe covid19france covid 19 covid19 coronavirus confinement confinementotal confinementgeneral http co zrlg0z520j', 'ready go supermarket covid19 outbreak paranoid food stock litteraly empty coronavirus serious thing please panic cause shortage coronavirusfrance restezchezvous stayathome confinement http co usmualq72n', 'news region first confirmed covid 19 case came sullivan county last week people flocked area store purchase cleaning supply hand sanitizer food toilet paper good tim dodson report http co cfxch7a2lu', 'cashier grocery store sharing insight covid 19 prove credibility commented civics class know talking http co iefdnehgdo', 'supermarket today buy toilet paper rebel toiletpapercrisis covid 19 http co evxkqlidaz', 'due covid 19 retail store classroom atlanta open walk business class next two week beginning monday march 16 continue process online phone order normal thank understanding http co kw91zj5o5i', 'corona prevention stop buy thing cash use online payment method corona spread note also prefer online shopping home time fight covid 19 govindia indiafightscorona']\n"
     ]
    }
   ],
   "source": [
    "print(corpus[:10])"
   ]
  },
  {
   "cell_type": "code",
   "execution_count": 15,
   "id": "7139ddcd",
   "metadata": {},
   "outputs": [],
   "source": [
    "tf=TfidfVectorizer(max_features=1500)\n",
    "tf_res=tf.fit_transform(corpus).toarray()"
   ]
  },
  {
   "cell_type": "code",
   "execution_count": 16,
   "id": "7b5d98f9",
   "metadata": {},
   "outputs": [
    {
     "name": "stdout",
     "output_type": "stream",
     "text": [
      "[[0. 0. 0. ... 0. 0. 0.]\n",
      " [0. 0. 0. ... 0. 0. 0.]\n",
      " [0. 0. 0. ... 0. 0. 0.]\n",
      " [0. 0. 0. ... 0. 0. 0.]\n",
      " [0. 0. 0. ... 0. 0. 0.]]\n"
     ]
    }
   ],
   "source": [
    "print(tf_res[:5])"
   ]
  },
  {
   "cell_type": "code",
   "execution_count": 17,
   "id": "f96201b8",
   "metadata": {},
   "outputs": [
    {
     "name": "stdout",
     "output_type": "stream",
     "text": [
      "<class 'numpy.ndarray'>\n"
     ]
    }
   ],
   "source": [
    "print(type(tf_res))"
   ]
  },
  {
   "cell_type": "code",
   "execution_count": 18,
   "id": "3da1e2a2",
   "metadata": {},
   "outputs": [
    {
     "name": "stdout",
     "output_type": "stream",
     "text": [
      "41157\n",
      "(41157,)\n"
     ]
    }
   ],
   "source": [
    "x=tf_res\n",
    "y=df['Sentiment']\n",
    "print(len(x))\n",
    "print(y.shape)"
   ]
  },
  {
   "cell_type": "code",
   "execution_count": 19,
   "id": "8a7d1dd3",
   "metadata": {},
   "outputs": [
    {
     "name": "stdout",
     "output_type": "stream",
     "text": [
      "(30867, 1500)\n",
      "(10290, 1500)\n",
      "(30867,)\n",
      "(10290,)\n"
     ]
    }
   ],
   "source": [
    "x_tr,x_te,y_tr,y_te = train_test_split(x,y,test_size=0.25)  #Splitting the data into Train and Test data\n",
    "print(x_tr.shape)\n",
    "print(x_te.shape)\n",
    "print(y_tr.shape)\n",
    "print(y_te.shape)"
   ]
  },
  {
   "cell_type": "code",
   "execution_count": 20,
   "id": "1f423fa4",
   "metadata": {},
   "outputs": [],
   "source": [
    "from sklearn.naive_bayes import MultinomialNB\n",
    "from sklearn.neighbors import KNeighborsClassifier\n",
    "from sklearn.tree import DecisionTreeClassifier\n",
    "from sklearn.ensemble import RandomForestClassifier\n",
    "from sklearn.linear_model import LogisticRegression\n",
    "from sklearn.naive_bayes import GaussianNB"
   ]
  },
  {
   "cell_type": "markdown",
   "id": "cdf7ddd5",
   "metadata": {},
   "source": [
    "### Applying Multinominal Naive Bayes Model\n"
   ]
  },
  {
   "cell_type": "code",
   "execution_count": 21,
   "id": "91b289fa",
   "metadata": {},
   "outputs": [
    {
     "data": {
      "text/plain": [
       "MultinomialNB()"
      ]
     },
     "execution_count": 21,
     "metadata": {},
     "output_type": "execute_result"
    }
   ],
   "source": [
    "m1=MultinomialNB()\n",
    "m1.fit(x_tr,y_tr)"
   ]
  },
  {
   "cell_type": "code",
   "execution_count": 22,
   "id": "f586fbec",
   "metadata": {},
   "outputs": [
    {
     "name": "stdout",
     "output_type": "stream",
     "text": [
      "Training score 0.6838047105322836\n",
      "Testing score 0.6637512147716229\n"
     ]
    }
   ],
   "source": [
    "print('Training score',m1.score(x_tr,y_tr))\n",
    "print('Testing score',m1.score(x_te,y_te))"
   ]
  },
  {
   "cell_type": "code",
   "execution_count": 23,
   "id": "e54df8b0",
   "metadata": {},
   "outputs": [
    {
     "name": "stdout",
     "output_type": "stream",
     "text": [
      "['Negative' 'Negative' 'Positive' ... 'Positive' 'Negative' 'Negative']\n"
     ]
    }
   ],
   "source": [
    "ypred_m1 = m1.predict(x_te)\n",
    "print(ypred_m1)"
   ]
  },
  {
   "cell_type": "code",
   "execution_count": 24,
   "id": "f117edb2",
   "metadata": {},
   "outputs": [
    {
     "name": "stdout",
     "output_type": "stream",
     "text": [
      "[[2698   78 1114]\n",
      " [ 538  403 1023]\n",
      " [ 634   73 3729]]\n",
      "              precision    recall  f1-score   support\n",
      "\n",
      "    Negative       0.70      0.69      0.70      3890\n",
      "     Neutral       0.73      0.21      0.32      1964\n",
      "    Positive       0.64      0.84      0.72      4436\n",
      "\n",
      "    accuracy                           0.66     10290\n",
      "   macro avg       0.69      0.58      0.58     10290\n",
      "weighted avg       0.68      0.66      0.64     10290\n",
      "\n"
     ]
    }
   ],
   "source": [
    "cm_m1 = confusion_matrix(y_te,ypred_m1)\n",
    "print(cm_m1)\n",
    "print(classification_report(y_te,ypred_m1))  "
   ]
  },
  {
   "cell_type": "markdown",
   "id": "06eecb27",
   "metadata": {},
   "source": [
    "### Accuracy for Applying Multinomial Naive Bayes Model is 66%"
   ]
  },
  {
   "cell_type": "markdown",
   "id": "bfef1b8e",
   "metadata": {},
   "source": [
    "### Applying KNN Classifier\n"
   ]
  },
  {
   "cell_type": "code",
   "execution_count": 25,
   "id": "f2c719f1",
   "metadata": {},
   "outputs": [
    {
     "data": {
      "text/plain": [
       "KNeighborsClassifier(n_neighbors=555)"
      ]
     },
     "execution_count": 25,
     "metadata": {},
     "output_type": "execute_result"
    }
   ],
   "source": [
    "m2 = KNeighborsClassifier(n_neighbors=555) \n",
    "m2.fit(x_tr,y_tr)"
   ]
  },
  {
   "cell_type": "code",
   "execution_count": 26,
   "id": "9392d2f3",
   "metadata": {},
   "outputs": [
    {
     "name": "stdout",
     "output_type": "stream",
     "text": [
      "Training score 0.6308679171931189\n",
      "Testing score 0.6284742468415938\n"
     ]
    }
   ],
   "source": [
    "print('Training score',m2.score(x_tr,y_tr))\n",
    "print('Testing score',m2.score(x_te,y_te))"
   ]
  },
  {
   "cell_type": "code",
   "execution_count": 27,
   "id": "146e17c4",
   "metadata": {},
   "outputs": [
    {
     "name": "stdout",
     "output_type": "stream",
     "text": [
      "['Negative' 'Neutral' 'Positive' ... 'Positive' 'Negative' 'Negative']\n"
     ]
    }
   ],
   "source": [
    "ypred_m2 = m2.predict(x_te)\n",
    "print(ypred_m2)"
   ]
  },
  {
   "cell_type": "code",
   "execution_count": 28,
   "id": "6fcb87b4",
   "metadata": {},
   "outputs": [
    {
     "name": "stdout",
     "output_type": "stream",
     "text": [
      "[[2156  302 1432]\n",
      " [ 325  711  928]\n",
      " [ 515  321 3600]]\n",
      "              precision    recall  f1-score   support\n",
      "\n",
      "    Negative       0.72      0.55      0.63      3890\n",
      "     Neutral       0.53      0.36      0.43      1964\n",
      "    Positive       0.60      0.81      0.69      4436\n",
      "\n",
      "    accuracy                           0.63     10290\n",
      "   macro avg       0.62      0.58      0.58     10290\n",
      "weighted avg       0.63      0.63      0.62     10290\n",
      "\n"
     ]
    }
   ],
   "source": [
    "cm_m2 = confusion_matrix(y_te,ypred_m2)\n",
    "print(cm_m2)\n",
    "print(classification_report(y_te,ypred_m2)) "
   ]
  },
  {
   "cell_type": "markdown",
   "id": "6f81f754",
   "metadata": {},
   "source": [
    "### Accuracy for Applying KNN Classifier is 63%"
   ]
  },
  {
   "cell_type": "markdown",
   "id": "8edc3703",
   "metadata": {},
   "source": [
    "### Applying Decision Tree Classifier"
   ]
  },
  {
   "cell_type": "code",
   "execution_count": 29,
   "id": "e9fbfa68",
   "metadata": {},
   "outputs": [
    {
     "data": {
      "text/plain": [
       "DecisionTreeClassifier(max_depth=6)"
      ]
     },
     "execution_count": 29,
     "metadata": {},
     "output_type": "execute_result"
    }
   ],
   "source": [
    "m3 = DecisionTreeClassifier(criterion='gini',max_depth=6)\n",
    "m3.fit(x_tr,y_tr)"
   ]
  },
  {
   "cell_type": "code",
   "execution_count": 30,
   "id": "6b156bb7",
   "metadata": {},
   "outputs": [
    {
     "name": "stdout",
     "output_type": "stream",
     "text": [
      "Training score 0.5120355071759485\n",
      "Testing score 0.508357628765792\n"
     ]
    }
   ],
   "source": [
    "print('Training score',m3.score(x_tr,y_tr))\n",
    "print('Testing score',m3.score(x_te,y_te))"
   ]
  },
  {
   "cell_type": "code",
   "execution_count": 31,
   "id": "da773bb5",
   "metadata": {},
   "outputs": [
    {
     "name": "stdout",
     "output_type": "stream",
     "text": [
      "['Negative' 'Positive' 'Positive' ... 'Positive' 'Negative' 'Positive']\n"
     ]
    }
   ],
   "source": [
    "ypred_m3 = m3.predict(x_te)\n",
    "print(ypred_m3)"
   ]
  },
  {
   "cell_type": "code",
   "execution_count": 32,
   "id": "1fb76c8a",
   "metadata": {},
   "outputs": [
    {
     "name": "stdout",
     "output_type": "stream",
     "text": [
      "[[ 868  520 2502]\n",
      " [  37  797 1130]\n",
      " [ 209  661 3566]]\n",
      "              precision    recall  f1-score   support\n",
      "\n",
      "    Negative       0.78      0.22      0.35      3890\n",
      "     Neutral       0.40      0.41      0.40      1964\n",
      "    Positive       0.50      0.80      0.61      4436\n",
      "\n",
      "    accuracy                           0.51     10290\n",
      "   macro avg       0.56      0.48      0.45     10290\n",
      "weighted avg       0.59      0.51      0.47     10290\n",
      "\n"
     ]
    }
   ],
   "source": [
    "cm_m3 = confusion_matrix(y_te,ypred_m3)\n",
    "print(cm_m3)\n",
    "print(classification_report(y_te,ypred_m3)) "
   ]
  },
  {
   "cell_type": "markdown",
   "id": "5f9c76c0",
   "metadata": {},
   "source": [
    "### Accuracy for Applying Decision Tree Classifier is 51%"
   ]
  },
  {
   "cell_type": "markdown",
   "id": "11eff411",
   "metadata": {},
   "source": [
    "### Applying RandomForest Classifier"
   ]
  },
  {
   "cell_type": "code",
   "execution_count": 33,
   "id": "fe845634",
   "metadata": {},
   "outputs": [
    {
     "data": {
      "text/plain": [
       "RandomForestClassifier(criterion='entropy', max_depth=6, min_samples_split=15,\n",
       "                       n_estimators=90)"
      ]
     },
     "execution_count": 33,
     "metadata": {},
     "output_type": "execute_result"
    }
   ],
   "source": [
    "m4=RandomForestClassifier(n_estimators=90,criterion='entropy',max_depth=6,min_samples_split=15)\n",
    "m4.fit(x_tr,y_tr)"
   ]
  },
  {
   "cell_type": "code",
   "execution_count": 34,
   "id": "457e7064",
   "metadata": {},
   "outputs": [
    {
     "name": "stdout",
     "output_type": "stream",
     "text": [
      "Training score 0.5377911685618946\n",
      "Testing score 0.5256559766763849\n"
     ]
    }
   ],
   "source": [
    "print('Training score',m4.score(x_tr,y_tr))\n",
    "print('Testing score',m4.score(x_te,y_te))"
   ]
  },
  {
   "cell_type": "code",
   "execution_count": 35,
   "id": "fbfeb9eb",
   "metadata": {},
   "outputs": [
    {
     "name": "stdout",
     "output_type": "stream",
     "text": [
      "['Negative' 'Positive' 'Positive' ... 'Positive' 'Negative' 'Negative']\n"
     ]
    }
   ],
   "source": [
    "ypred_m4 = m4.predict(x_te)\n",
    "print(ypred_m4)"
   ]
  },
  {
   "cell_type": "code",
   "execution_count": 36,
   "id": "d32974ca",
   "metadata": {},
   "outputs": [
    {
     "name": "stdout",
     "output_type": "stream",
     "text": [
      "[[1113    0 2777]\n",
      " [  42    0 1922]\n",
      " [ 140    0 4296]]\n",
      "              precision    recall  f1-score   support\n",
      "\n",
      "    Negative       0.86      0.29      0.43      3890\n",
      "     Neutral       0.00      0.00      0.00      1964\n",
      "    Positive       0.48      0.97      0.64      4436\n",
      "\n",
      "    accuracy                           0.53     10290\n",
      "   macro avg       0.45      0.42      0.36     10290\n",
      "weighted avg       0.53      0.53      0.44     10290\n",
      "\n"
     ]
    }
   ],
   "source": [
    "cm_m4 = confusion_matrix(y_te,ypred_m4)\n",
    "print(cm_m4)\n",
    "print(classification_report(y_te,ypred_m4,zero_division=0)) "
   ]
  },
  {
   "cell_type": "markdown",
   "id": "344510de",
   "metadata": {},
   "source": [
    "### Accuracy for Applying RandomForest Classifier is 53%"
   ]
  },
  {
   "cell_type": "markdown",
   "id": "869ddfc3",
   "metadata": {},
   "source": [
    "### Applying Gaussian Naive Bayes Model"
   ]
  },
  {
   "cell_type": "code",
   "execution_count": 37,
   "id": "a1f41882",
   "metadata": {},
   "outputs": [
    {
     "data": {
      "text/plain": [
       "GaussianNB()"
      ]
     },
     "execution_count": 37,
     "metadata": {},
     "output_type": "execute_result"
    }
   ],
   "source": [
    "m5 = GaussianNB()\n",
    "m5.fit(x_tr,y_tr)"
   ]
  },
  {
   "cell_type": "code",
   "execution_count": 38,
   "id": "b6374262",
   "metadata": {},
   "outputs": [
    {
     "name": "stdout",
     "output_type": "stream",
     "text": [
      "Training score 0.6188162114879969\n",
      "Testing score 0.5906705539358601\n"
     ]
    }
   ],
   "source": [
    "print('Training score',m5.score(x_tr,y_tr))\n",
    "print('Testing score',m5.score(x_te,y_te))"
   ]
  },
  {
   "cell_type": "code",
   "execution_count": 39,
   "id": "36699682",
   "metadata": {},
   "outputs": [
    {
     "name": "stdout",
     "output_type": "stream",
     "text": [
      "['Negative' 'Negative' 'Positive' ... 'Neutral' 'Negative' 'Negative']\n"
     ]
    }
   ],
   "source": [
    "ypred_m5 = m5.predict(x_te)\n",
    "print(ypred_m5)"
   ]
  },
  {
   "cell_type": "code",
   "execution_count": 40,
   "id": "ecb7b5f2",
   "metadata": {},
   "outputs": [
    {
     "name": "stdout",
     "output_type": "stream",
     "text": [
      "[[2068 1245  577]\n",
      " [ 180 1591  193]\n",
      " [ 656 1361 2419]]\n",
      "              precision    recall  f1-score   support\n",
      "\n",
      "    Negative       0.71      0.53      0.61      3890\n",
      "     Neutral       0.38      0.81      0.52      1964\n",
      "    Positive       0.76      0.55      0.63      4436\n",
      "\n",
      "    accuracy                           0.59     10290\n",
      "   macro avg       0.62      0.63      0.59     10290\n",
      "weighted avg       0.67      0.59      0.60     10290\n",
      "\n"
     ]
    }
   ],
   "source": [
    "cm_m5 = confusion_matrix(y_te,ypred_m5)\n",
    "print(cm_m5)\n",
    "print(classification_report(y_te,ypred_m5))"
   ]
  },
  {
   "cell_type": "markdown",
   "id": "4f99b0a7",
   "metadata": {},
   "source": [
    "### Accuracy for Applying Gaussian Naive Bayes Model is 59%"
   ]
  },
  {
   "cell_type": "markdown",
   "id": "b8a12ad7",
   "metadata": {},
   "source": [
    "### Applying Logistic Regression"
   ]
  },
  {
   "cell_type": "code",
   "execution_count": 41,
   "id": "d3cc4eeb",
   "metadata": {},
   "outputs": [
    {
     "data": {
      "text/plain": [
       "LogisticRegression(solver='liblinear')"
      ]
     },
     "execution_count": 41,
     "metadata": {},
     "output_type": "execute_result"
    }
   ],
   "source": [
    "m6 = LogisticRegression(solver='liblinear')\n",
    "m6.fit(x_tr,y_tr)"
   ]
  },
  {
   "cell_type": "code",
   "execution_count": 42,
   "id": "dc179b80",
   "metadata": {},
   "outputs": [
    {
     "name": "stdout",
     "output_type": "stream",
     "text": [
      "Training score 0.7877992678264814\n",
      "Testing score 0.752575315840622\n"
     ]
    }
   ],
   "source": [
    "print('Training score',m6.score(x_tr,y_tr))\n",
    "print('Testing score',m6.score(x_te,y_te))"
   ]
  },
  {
   "cell_type": "code",
   "execution_count": 43,
   "id": "5b20d518",
   "metadata": {},
   "outputs": [
    {
     "name": "stdout",
     "output_type": "stream",
     "text": [
      "['Negative' 'Negative' 'Positive' ... 'Negative' 'Negative' 'Negative']\n"
     ]
    }
   ],
   "source": [
    "ypred_m6 = m6.predict(x_te)\n",
    "print(ypred_m6)"
   ]
  },
  {
   "cell_type": "code",
   "execution_count": 44,
   "id": "24b605e2",
   "metadata": {},
   "outputs": [
    {
     "name": "stdout",
     "output_type": "stream",
     "text": [
      "[[2958  250  682]\n",
      " [ 416 1129  419]\n",
      " [ 565  214 3657]]\n",
      "              precision    recall  f1-score   support\n",
      "\n",
      "    Negative       0.75      0.76      0.76      3890\n",
      "     Neutral       0.71      0.57      0.63      1964\n",
      "    Positive       0.77      0.82      0.80      4436\n",
      "\n",
      "    accuracy                           0.75     10290\n",
      "   macro avg       0.74      0.72      0.73     10290\n",
      "weighted avg       0.75      0.75      0.75     10290\n",
      "\n"
     ]
    }
   ],
   "source": [
    "cm_m6 = confusion_matrix(y_te,ypred_m6)\n",
    "print(cm_m6)\n",
    "print(classification_report(y_te,ypred_m6))"
   ]
  },
  {
   "cell_type": "markdown",
   "id": "8a46e231",
   "metadata": {},
   "source": [
    "### Accuracy for Applying Logistic Regression Model is 75%"
   ]
  },
  {
   "cell_type": "code",
   "execution_count": 45,
   "id": "ad76e47f",
   "metadata": {},
   "outputs": [
    {
     "name": "stdout",
     "output_type": "stream",
     "text": [
      "{'MultinomialNB': 0.6637512147716229, 'KNN': 0.6284742468415938, 'DecTree': 0.508357628765792, 'Random': 0.5256559766763849, 'GausNB': 0.5906705539358601, 'Logistic': 0.752575315840622}\n"
     ]
    }
   ],
   "source": [
    "res = {'MultinomialNB':m1.score(x_te,y_te),'KNN':m2.score(x_te,y_te),'DecTree':m3.score(x_te,y_te),'Random':m4.score(x_te,y_te),'GausNB':m5.score(x_te,y_te),'Logistic':m6.score(x_te,y_te)}\n",
    "print(res)"
   ]
  },
  {
   "cell_type": "code",
   "execution_count": 46,
   "id": "9516d02f",
   "metadata": {},
   "outputs": [
    {
     "data": {
      "image/png": "[encoded data removed]",
      "text/plain": [
       "<Figure size 432x288 with 1 Axes>"
      ]
     },
     "metadata": {
      "needs_background": "light"
     },
     "output_type": "display_data"
    }
   ],
   "source": [
    "plt.bar(res.keys(),[i*100 for i in res.values()],color=['green','red','blue','pink','purple','black'])\n",
    "plt.xlabel('ML Models')\n",
    "plt.ylabel('Accuracy in Percentage')\n",
    "plt.title('ML Models with their Accuracy')\n",
    "plt.show()"
   ]
  },
  {
   "cell_type": "markdown",
   "id": "e396b7b9",
   "metadata": {},
   "source": [
    "#### Report : Out of all the Machine Learning  Models, It is reported that Logistic Regression Model generates the highest accuracy which is 75%"
   ]
  }
 ],
 "metadata": {
  "kernelspec": {
   "display_name": "Python 3",
   "language": "python",
   "name": "python3"
  },
  "language_info": {
   "codemirror_mode": {
    "name": "ipython",
    "version": 3
   },
   "file_extension": ".py",
   "mimetype": "text/x-python",
   "name": "python",
   "nbconvert_exporter": "python",
   "pygments_lexer": "ipython3",
   "version": "3.8.8"
  }
 },
 "nbformat": 4,
 "nbformat_minor": 5
}
